{
  "cells": [
    {
      "cell_type": "markdown",
      "metadata": {
        "id": "view-in-github",
        "colab_type": "text"
      },
      "source": [
        "<a href=\"https://colab.research.google.com/github/mxsu/IAT460-Rule-Based-System/blob/main/Story_grammars.ipynb\" target=\"_parent\"><img src=\"https://colab.research.google.com/assets/colab-badge.svg\" alt=\"Open In Colab\"/></a>"
      ]
    },
    {
      "cell_type": "markdown",
      "source": [
        "\n",
        "\n",
        "#IAT 460 Implement a Rule Based System\n",
        "Option 1: Procedural Story Generator\n",
        "\n",
        "I chose to do 2 grammar rulesets\n",
        "\n",
        "For the story elements I decided to use the story line of\n",
        "\n",
        "- Exposition, Conflict, Rising action, Climax, Falling action, and Resolution\n",
        "\n",
        "complete with it's own characters, setting, and plot points and text generated to produce about 100 words\n",
        "\n"
      ],
      "metadata": {
        "id": "P_UCxkOcL8cr"
      }
    },
    {
      "cell_type": "code",
      "source": [
        "import random"
      ],
      "metadata": {
        "id": "b29vtGAdLvO4"
      },
      "execution_count": 229,
      "outputs": []
    },
    {
      "cell_type": "code",
      "source": [
        "#Variables so that in the story, we only have 1 villain and 1 hero\n",
        "selected_villain = ''\n",
        "selected_hero=''\n",
        "\n",
        "story_grammar = {\n",
        "\n",
        "    #Storyline breakdown of Exposition, Conflict, Rising action, Climax, Falling action, and Resolution\n",
        "    'STORY':[['EXPOSITION', 'Space', 'CONFLICT', 'Space', 'RISING', 'Space', 'CLIMAX', 'Space', 'FALLING', 'Space', 'RESOLUTION']],\n",
        "    'Space':['\\n'],\n",
        "\n",
        "    #EXPOSITION introduces the setting, character, and its background\n",
        "    'EXPOSITION': [['Setting', 'Characters', 'Background']],\n",
        "\n",
        "    'Setting': [['Where','Place']],\n",
        "    'Characters': [['Name', 'the', 'Occupation']],\n",
        "    'Place': [['the', 'Adjectives', 'Towns',',']],\n",
        "    'Towns': ['village of Henesys', 'forest town of Ellinia', 'mountains of Perion', 'coast of Lith Harbor'],\n",
        "    'Name': ['Thorfinn', 'Frieren', 'Ymir'],\n",
        "    'Occupation':['warrior', 'mage', 'archer'],\n",
        "    'Background':[['had his', 'Dead', 'killed by the', 'Villain']],\n",
        "    'Dead':['sister', 'mother', 'best friend'],\n",
        "    'Villain':['Demon King', 'Black Mage', 'Shadow Dragon', 'Ant Queen'],\n",
        "\n",
        "\n",
        "    #CONFLICT creates a reason why the main character wants to defeat the villain\n",
        "    'CONFLICT': [['Purpose', 'Pronoun','Travel', 'to the', 'ConflAdj', 'Destination', 'of the', 'Villain']],\n",
        "\n",
        "    'Purpose': ['in order to get revenge', ['to avenge', 'Dead'], 'seeking justice'],\n",
        "    'Travel': [['sets out on an', 'Journey'], ['embarks on', 'Journey'], ['starts a', 'Journey']],\n",
        "    'Journey':['adventure', 'journey', 'quest'],\n",
        "    'ConflAdj': ['malevolent', 'dark', 'corrupt'],\n",
        "    'Destination': ['Stronghold', 'Tower', 'Lair',],\n",
        "\n",
        "    #RISING ACTION the character has a growth period where he creates his party\n",
        "    'RISING': [['Meet', 'Party', 'Backstory', 'the', 'Villain']],\n",
        "\n",
        "    'Meet': [['on his', 'Journey'], 'along the way', 'in the process'],\n",
        "    'Party': ['he meets companions', 'he finds friends', 'he is joined by adventurers'],\n",
        "    'Backstory': [['that has also', 'BgVerb']],\n",
        "    'BgVerb': ['suffered from', 'experienced hardship from', 'lost someone due to'],\n",
        "\n",
        "\n",
        "    #CLIMAX this is where the main character reaches the headquarters and fights\n",
        "    'CLIMAX': [['Destination2','the', 'Villain', 'Trap', 'with','Mons']],\n",
        "\n",
        "    'Destination2':[['Reach', 'to the', 'Destination']],\n",
        "    'Reach': ['upon reaching', 'after arriving'],\n",
        "    'Mons': ['minions', 'creatures', 'monsters'],\n",
        "    'Trap': ['prepared an ambush', 'laid a trap'],\n",
        "\n",
        "\n",
        "    #FALLING ACTION in this scene, the villain is defeated and everyone except the main character dies\n",
        "    'FALLING': [['Swarm', ',','the party', 'Wiped', ',','Energy', ',', 'Attack']],\n",
        "\n",
        "    'Swarm':['as they were swarmed', 'after being overrun', 'with the arrival of the horde'],\n",
        "    'Wiped':['was wiped', 'had all been slaughtered', 'got erased'],\n",
        "    'Energy':[['while the', 'Villain', 'was out of energy'],['after', 'Villain', 'ran out of mana'],['when the', 'Villain', 'was charging up its next attack']],\n",
        "    'Attack':[['Name', 'unleashed their most powerful attack'],['Name', 'screamed and used up their might to strike']],\n",
        "\n",
        "\n",
        "    #RESOLUTION the ending for the story\n",
        "    'RESOLUTION': [['Ending',',','Peace',',','Name','Sad','but','Hope']],\n",
        "    'Ending':[['with the', 'Villain', 'dead'],['after the death of the', 'Villain']],\n",
        "    'Peace':['the world seems more peaceful', 'harmony is brought back to the world'],\n",
        "    'Sad':['mourns the loss of his companions','grieves for his fallen party members'],\n",
        "    'Hope':['looks to the future', 'is hopeful towards the future'],\n",
        "\n",
        "    #grammar stuff\n",
        "    'Pronoun':['he'],\n",
        "    'Verbs':[],\n",
        "    'Adjectives':['peaceful', 'vibrant', 'cozy', 'rustic'],\n",
        "    'Adverbs':[],\n",
        "    'Preposition':[],\n",
        "    'Where':['in', 'on', 'beside', 'under', 'above'],\n",
        "\n",
        "\n",
        "\n",
        "}\n",
        "\n",
        "def generate_story(symbol='STORY', villain='', name=''):\n",
        "    \"\"\"\n",
        "    Generate a story using our poetry story\n",
        "    \"\"\"\n",
        "    global selected_villain\n",
        "    #generates villain only once\n",
        "    if symbol == 'Villain':\n",
        "        if selected_villain =='':  # Randomize only if not already selected\n",
        "          selected_villain = random.choice(story_grammar['Villain'])\n",
        "        return selected_villain\n",
        "\n",
        "    global selected_hero\n",
        "    #generates hero only once\n",
        "    if symbol == 'Name':\n",
        "        if selected_hero =='':\n",
        "          selected_hero = random.choice(story_grammar['Name'])\n",
        "        return selected_hero\n",
        "\n",
        "    #randomizes the grammar rules\n",
        "    if isinstance(symbol, str) and symbol in story_grammar and symbol != 'Villain':\n",
        "        production = random.choice(story_grammar[symbol])\n",
        "        if isinstance(production, list):\n",
        "            result = [generate_story(sym) for sym in production]\n",
        "            return ' '.join(result)\n",
        "        return production\n",
        "\n",
        "    return symbol + ''"
      ],
      "metadata": {
        "id": "ILi9yxJIOSl0"
      },
      "execution_count": 236,
      "outputs": []
    },
    {
      "cell_type": "code",
      "source": [
        "print(\"Generated story:\\n\")\n",
        "print(generate_story())\n",
        "\n",
        "#reset the names/makes it unique\n",
        "selected_villain=''\n",
        "selected_hero=''"
      ],
      "metadata": {
        "colab": {
          "base_uri": "https://localhost:8080/"
        },
        "id": "sb3ANnumOzVK",
        "outputId": "9e929f62-8775-4618-f7a6-864b6def41c2"
      },
      "execution_count": 273,
      "outputs": [
        {
          "output_type": "stream",
          "name": "stdout",
          "text": [
            "Generated story:\n",
            "\n",
            "on the rustic forest town of Ellinia , Ymir the archer had his best friend killed by the Demon King \n",
            " to avenge sister he starts a adventure to the dark Stronghold of the Demon King \n",
            " in the process he finds friends that has also lost someone due to the Demon King \n",
            " upon reaching to the Lair the Demon King prepared an ambush with minions \n",
            " after being overrun , the party was wiped , after Demon King ran out of mana , Ymir unleashed their most powerful attack \n",
            " with the Demon King dead , the world seems more peaceful , Ymir mourns the loss of his companions but is hopeful towards the future\n"
          ]
        }
      ]
    },
    {
      "cell_type": "code",
      "source": [
        "selected_name=''\n",
        "story_grammar2 = {\n",
        "\n",
        "    #Storyline breakdown of Exposition, Conflict, Rising action, Climax, Falling action, and Resolution\n",
        "    'STORY':[['EXPOSITION', 'Space', 'CONFLICT', 'Space', 'RISING', 'Space', 'CLIMAX', 'Space', 'FALLING', 'Space', 'RESOLUTION']],\n",
        "    'Space':['\\n'],\n",
        "\n",
        "    #EXPOSITION introduces the character and setting, with some details about her\n",
        "    'EXPOSITION': [['Name', 'Action', 'into the', 'Setting', 'and', 'Order','Favourite','drink',',','a','Drink']],\n",
        "    'Setting': ['coffee shop', 'cafe', 'bakery'],\n",
        "    'Name': ['Juney', 'Isabella', 'Yuna'],\n",
        "    'Action':['rushed','wandered', 'ran'],\n",
        "    'Order': ['ordered her', 'got her', 'chose her'],\n",
        "    'Favourite':['favourite','usual','standard'],\n",
        "    'Drink':['matcha latte', 'lavender latte', 'caramel latte', 'mocha latte'],\n",
        "\n",
        "    #CONFLICT shows the action happening between the main character and another patron\n",
        "    'CONFLICT': [['Rush','she','Fall','into', 'Person','and','Accident', 'onto them']],\n",
        "    'Rush': ['in a rush', 'as she turned around', 'on the way out'],\n",
        "    'Fall':['slipped', 'bumped into'],\n",
        "    'Accident': ['spilled her drink', 'dropped her drink', 'lost her drink'],\n",
        "    'Person': ['the person', 'a passerby', 'a customer'],\n",
        "\n",
        "    #RISING ACTION build up of the drama\n",
        "    'RISING': [['\"','Sorry','!','Im','Clumsy','Let','Clean','That','\"']],\n",
        "    'Sorry':['OOPS','SORRY','MY BAD'],\n",
        "    'Clumsy':['so clumsy','such a klutz', 'so uncoordinated'],\n",
        "    'Let': ['let me', 'allow me'],\n",
        "    'Clean':['clean','fix','wipe'],\n",
        "    'That': ['that up for you'],\n",
        "\n",
        "\n",
        "    #CLIMAX other customer changes the mood\n",
        "    'CLIMAX': [['he','Happy','and', 'Hands','Space', '\"', 'Caffiene', '\"']],\n",
        "    'Happy': ['laughs','smiles','giggles'],\n",
        "    'Hands': ['stops her hand','holds her hand','pushes her hand away'],\n",
        "    'Caffiene': ['that certainly woke me up', 'that was a change of pace', 'guess I dont need coffee to get a wake up call'],\n",
        "\n",
        "\n",
        "    #FALLING ACTION they try to make up\n",
        "    'FALLING': [['she','Look', 'with her', 'Eyes','Space','\"', 'Sorry2','let me','Repay','\"']],\n",
        "    'Look': ['looks up', 'meets his eyes'],\n",
        "    'Eyes':['sad, anxious expression', 'puppy eyes and pouty lips', 'soft, pleading gaze'],\n",
        "    'Sorry2':['Im so sorry', 'I apologize','Let me make it up to you and'],\n",
        "    'Repay':['repay you with a drink', 'buy your drink', 'pay for your drink'],\n",
        "\n",
        "    #RESOLUTION\n",
        "    'RESOLUTION': [['he','Happy','and','Points','Top','Space','\"','Joke','\"','Space','she', 'Happy', 'her','Worry','Face','Turned','into a','SmileAdj', 'of a smile']],\n",
        "    'Points':['looks down at his', 'points at his', 'touches his'],\n",
        "    'Top':['top','shirt','outfit'],\n",
        "    'Joke': ['Seems like you already gave me a drink', 'Looks like I already got one, with an extra splash', 'I wanted a drink, I didnt expect a shower too'],\n",
        "    'Worry': ['worried','anxious','nervous'],\n",
        "    'Face':['expresion', 'face','features'],\n",
        "    'Turned':['changed','turned','transformed'],\n",
        "    'SmileAdj':['bright and warm', 'ray of sunshine','blushing rose']\n",
        "\n",
        "}\n",
        "\n",
        "def generate_story2(symbol='STORY', name=''):\n",
        "    \"\"\"\n",
        "    Generate a story using our story grammar\n",
        "    \"\"\"\n",
        "\n",
        "    global selected_name\n",
        "    #generates name only once\n",
        "    if symbol == 'Name':\n",
        "        if selected_name =='':\n",
        "          selected_name = random.choice(story_grammar2['Name'])\n",
        "        return selected_name\n",
        "\n",
        "    if isinstance(symbol, str) and symbol in story_grammar2:\n",
        "        production = random.choice(story_grammar2[symbol])\n",
        "        if isinstance(production, list):\n",
        "            result = [generate_story2(sym) for sym in production]\n",
        "            return ' '.join(result)\n",
        "        return production\n",
        "\n",
        "    return symbol + ''"
      ],
      "metadata": {
        "id": "ULRDqhG-xOWW"
      },
      "execution_count": 248,
      "outputs": []
    },
    {
      "cell_type": "code",
      "source": [
        "print(\"Generated story:\\n\")\n",
        "print(generate_story2())\n",
        "\n",
        "selected_name=''"
      ],
      "metadata": {
        "colab": {
          "base_uri": "https://localhost:8080/"
        },
        "id": "-Rx6JuUQxSGe",
        "outputId": "7de9edff-a4f6-4bc6-c774-19f1616dd20a"
      },
      "execution_count": 288,
      "outputs": [
        {
          "output_type": "stream",
          "name": "stdout",
          "text": [
            "Generated story:\n",
            "\n",
            "Juney rushed into the bakery and ordered her usual drink , a mocha latte \n",
            " on the way out she slipped into a passerby and spilled her drink onto them \n",
            " \" MY BAD ! Im so uncoordinated let me clean that up for you \" \n",
            " he laughs and pushes her hand away \n",
            " \" that certainly woke me up \" \n",
            " she looks up with her sad, anxious expression \n",
            " \" I apologize let me repay you with a drink \" \n",
            " he laughs and looks down at his outfit \n",
            " \" Looks like I already got one, with an extra splash \" \n",
            " she giggles her worried features turned into a blushing rose of a smile\n"
          ]
        }
      ]
    }
  ],
  "metadata": {
    "kernelspec": {
      "display_name": "iat460",
      "language": "python",
      "name": "python3"
    },
    "language_info": {
      "codemirror_mode": {
        "name": "ipython",
        "version": 3
      },
      "file_extension": ".py",
      "mimetype": "text/x-python",
      "name": "python",
      "nbconvert_exporter": "python",
      "pygments_lexer": "ipython3",
      "version": "3.9.21"
    },
    "colab": {
      "provenance": [],
      "include_colab_link": true
    }
  },
  "nbformat": 4,
  "nbformat_minor": 0
}